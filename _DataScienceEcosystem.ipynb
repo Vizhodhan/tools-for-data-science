{
 "cells": [
  {
   "cell_type": "markdown",
   "id": "74aca805",
   "metadata": {},
   "source": [
    "# Data Science Tools and Ecosystem"
   ]
  },
  {
   "cell_type": "markdown",
   "id": "feb8c515",
   "metadata": {},
   "source": [
    "In this notebook the summary of the Data Science tools is executed"
   ]
  },
  {
   "cell_type": "markdown",
   "id": "a279e3f8",
   "metadata": {},
   "source": [
    "### Objectives:\n"
   ]
  },
  {
   "cell_type": "markdown",
   "id": "2e48a3ec",
   "metadata": {},
   "source": [
    "* List popular languages for Data Science\n",
    "* List some of the most popular libraries for data science in python\n",
    "* List some data science tools\n",
    "* show the arithmetic operastions in jupyter notebook\n"
   ]
  },
  {
   "cell_type": "markdown",
   "id": "f0317158",
   "metadata": {},
   "source": [
    "**Some of the popular languages that Data Scientists use are:**"
   ]
  },
  {
   "cell_type": "markdown",
   "id": "e5300426",
   "metadata": {},
   "source": [
    "* R  \n",
    "* Python  \n",
    "* Julia  \n"
   ]
  },
  {
   "cell_type": "markdown",
   "id": "3fa20160",
   "metadata": {},
   "source": [
    "**Some of the commonly used libraries used by Data Scientists include:**  \n",
    "  \n",
    "* Pandas  \n",
    "* Numpy  \n",
    "* Scikit Learn  \n",
    "* TensorFlow  \n",
    "* Scipy  \n"
   ]
  },
  {
   "cell_type": "markdown",
   "id": "5fec786a",
   "metadata": {},
   "source": [
    "|Data Science Tools|\n",
    "|------------------|\n",
    "|Jupyter lab|\n",
    "|Jupyter Notebook|\n",
    "|VS Code|\n",
    "|Py Charm|"
   ]
  },
  {
   "cell_type": "markdown",
   "id": "83071df5",
   "metadata": {},
   "source": [
    "## Below are a few examples of evaluating arithmetic expressions in Python:"
   ]
  },
  {
   "cell_type": "code",
   "execution_count": 2,
   "id": "09d618f6",
   "metadata": {},
   "outputs": [
    {
     "data": {
      "text/plain": [
       "17"
      ]
     },
     "execution_count": 2,
     "metadata": {},
     "output_type": "execute_result"
    }
   ],
   "source": [
    "#This a simple arithmetic expression to mutiply then add integers\n",
    "(3*4)+5"
   ]
  },
  {
   "cell_type": "code",
   "execution_count": 3,
   "id": "b6ce3799",
   "metadata": {},
   "outputs": [
    {
     "data": {
      "text/plain": [
       "3.3333333333333335"
      ]
     },
     "execution_count": 3,
     "metadata": {},
     "output_type": "execute_result"
    }
   ],
   "source": [
    "#This will convert 200 minutes to hours by diving by 60\n",
    "200/60"
   ]
  },
  {
   "cell_type": "markdown",
   "id": "d18d0551",
   "metadata": {},
   "source": [
    "## Author\n",
    "Sri Vishodhan"
   ]
  },
  {
   "cell_type": "code",
   "execution_count": null,
   "id": "81061698",
   "metadata": {},
   "outputs": [],
   "source": []
  }
 ],
 "metadata": {
  "kernelspec": {
   "display_name": "Python 3 (ipykernel)",
   "language": "python",
   "name": "python3"
  },
  "language_info": {
   "codemirror_mode": {
    "name": "ipython",
    "version": 3
   },
   "file_extension": ".py",
   "mimetype": "text/x-python",
   "name": "python",
   "nbconvert_exporter": "python",
   "pygments_lexer": "ipython3",
   "version": "3.11.4"
  }
 },
 "nbformat": 4,
 "nbformat_minor": 5
}
